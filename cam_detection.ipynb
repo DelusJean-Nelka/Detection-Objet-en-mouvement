{
 "cells": [
  {
   "cell_type": "code",
   "execution_count": 1,
   "metadata": {},
   "outputs": [
    {
     "name": "stdout",
     "output_type": "stream",
     "text": [
      "OpenCV version :  4.1.2\n"
     ]
    }
   ],
   "source": [
    "#!/usr/bin/env python3\n",
    "# -*- coding: UTF-8 -*-\n",
    " \n",
    "import cv2\n",
    "print(\"OpenCV version :  {0}\".format(cv2.__version__))\n",
    " \n",
    "def motion_detector(cam, flou, seuil_0, seuil_1, area, tempo):\n",
    "    # Création des fenêtres\n",
    "    cv2.namedWindow('Ecart entre frame')\n",
    "    cv2.namedWindow('Thresh')\n",
    "    cv2.namedWindow('Security Feed')\n",
    " \n",
    "    firstFrame = None\n",
    "    cap = cv2.VideoCapture(0)\n",
    "    loop = 1\n",
    "    while loop:\n",
    "        rval, frame = cap.read()\n",
    "        # Si la webcam à une image\n",
    "        if rval:\n",
    "            # Conversion en gris\n",
    "            gray = cv2.cvtColor(frame, cv2.COLOR_BGR2GRAY)\n",
    "            # Application d'un flou\n",
    "            gray = cv2.GaussianBlur(gray, (flou, flou), 0)\n",
    " \n",
    "            # Enregistrement d'une 1ère frame\n",
    "            if firstFrame is None:\n",
    "                firstFrame = gray\n",
    "            else:\n",
    "                # Ecart entre les frames\n",
    "                delta = cv2.absdiff(firstFrame, gray)\n",
    "                # Seuil\n",
    "                thresh = cv2.threshold(delta, seuil_0, seuil_1, cv2.THRESH_BINARY)[1]\n",
    "                # Dilatation des zones\n",
    "                thresh = cv2.dilate(thresh, None, iterations=2)\n",
    "                # Contours des zones\n",
    "                contours, hierarchy = cv2.findContours(thresh, cv2.RETR_TREE,\n",
    "                                                             cv2.CHAIN_APPROX_SIMPLE)\n",
    "                # Affichage des contours\n",
    "                for c in contours:\n",
    "                    if cv2.contourArea(c) > area:\n",
    "                        # Un rectangle incluant la zone\n",
    "                        (x, y, w, h) = cv2.boundingRect(c)\n",
    "                        cv2.rectangle(frame, (x, y), (x + w, y + h), (0, 255, 0), 2)\n",
    " \n",
    "                        cv2.imshow(\"Ecart entre frame\", delta)\n",
    "                        cv2.imshow(\"Thresh\", thresh)\n",
    "                        cv2.imshow(\"Security Feed\", frame)\n",
    " \n",
    "                        # Echap pour quitter dans une fenêtre\n",
    "                        if cv2.waitKey(tempo) & 0xFF == 27:\n",
    "                            cv2.destroyAllWindows()\n",
    "                            loop = 0\n",
    "    cv2.destroyAllWindows()\n",
    " \n",
    "if __name__ == \"__main__\":\n",
    "    # Numero de webcam\n",
    "    CAM = 0\n",
    " \n",
    "    # Valeur de flou, impair\n",
    "    FLOU = 41\n",
    " \n",
    "    # Seuils sur le gris\n",
    "    SEUIL_0, SEUIL_1 = 60, 255\n",
    " \n",
    "    # Aire minimal avec différence de pixels\n",
    "    AREA = 5000\n",
    " \n",
    "    # Attente en ms entre 2 capture\n",
    "    TEMPO = 30\n",
    " \n",
    "    motion_detector(CAM, FLOU, SEUIL_0, SEUIL_1, AREA, TEMPO)"
   ]
  },
  {
   "cell_type": "code",
   "execution_count": null,
   "metadata": {},
   "outputs": [],
   "source": []
  }
 ],
 "metadata": {
  "kernelspec": {
   "display_name": "Python 3",
   "language": "python",
   "name": "python3"
  },
  "language_info": {
   "codemirror_mode": {
    "name": "ipython",
    "version": 3
   },
   "file_extension": ".py",
   "mimetype": "text/x-python",
   "name": "python",
   "nbconvert_exporter": "python",
   "pygments_lexer": "ipython3",
   "version": "3.7.3"
  }
 },
 "nbformat": 4,
 "nbformat_minor": 2
}
