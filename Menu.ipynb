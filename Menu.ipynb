{
 "cells": [
  {
   "cell_type": "code",
   "execution_count": 7,
   "metadata": {},
   "outputs": [
    {
     "ename": "ModuleNotFoundError",
     "evalue": "No module named 'foreground_background'",
     "output_type": "error",
     "traceback": [
      "\u001b[1;31m---------------------------------------------------------------------------\u001b[0m",
      "\u001b[1;31mModuleNotFoundError\u001b[0m                       Traceback (most recent call last)",
      "\u001b[1;32m<ipython-input-7-7c58c16dbb1e>\u001b[0m in \u001b[0;36m<module>\u001b[1;34m\u001b[0m\n\u001b[1;32m----> 1\u001b[1;33m \u001b[1;32mfrom\u001b[0m \u001b[0mforeground_background\u001b[0m \u001b[1;32mimport\u001b[0m \u001b[0mforeground_background\u001b[0m\u001b[1;33m\u001b[0m\u001b[1;33m\u001b[0m\u001b[0m\n\u001b[0m\u001b[0;32m      2\u001b[0m \u001b[1;31m#import kalman as k\u001b[0m\u001b[1;33m\u001b[0m\u001b[1;33m\u001b[0m\u001b[1;33m\u001b[0m\u001b[0m\n\u001b[0;32m      3\u001b[0m \u001b[1;31m#import Comptage\u001b[0m\u001b[1;33m\u001b[0m\u001b[1;33m\u001b[0m\u001b[1;33m\u001b[0m\u001b[0m\n\u001b[0;32m      4\u001b[0m \u001b[1;33m\u001b[0m\u001b[0m\n\u001b[0;32m      5\u001b[0m \u001b[1;31m# from comptage_objet.people_counter import comptage\u001b[0m\u001b[1;33m\u001b[0m\u001b[1;33m\u001b[0m\u001b[1;33m\u001b[0m\u001b[0m\n",
      "\u001b[1;31mModuleNotFoundError\u001b[0m: No module named 'foreground_background'"
     ]
    }
   ],
   "source": [
    "from foreground_background import foreground_background\n",
    "#import kalman as k\n",
    "#import Comptage\n",
    "\n",
    "# from comptage_objet.people_counter import comptage\n",
    "\n",
    "def menu_principal():\n",
    "    print(\"________________ MENU PRINCIPAL ___________________\")\n",
    "    print(\"1 - DETECTION DU MOUVEMENT \")\n",
    "    print(\"2 - SUIVI AVEC LE FILTRE KALMAN \")\n",
    "    print(\"3 - COMPTAGE DES OBJETS EN MOUVEMMENT\")\n",
    "    print(\"4 ou 'q' - QUITTER LE PROGRAMME \")\n",
    "\n",
    "\n",
    "def sous_menu_detection_mouvement():\n",
    "    print(\"________________ DETECTION DU MOUVEMENT ___________________\")\n",
    "    print(\"1 - MOG2 \")\n",
    "    print(\"2 - KNN \")\n",
    "    print(\"4 ou 'r' pour retourner au menu principal \")\n",
    "\n",
    "\n",
    "def sous_menu_comptage_object():\n",
    "    print(\"________________ COMPTAGE DES OBJETS ___________________\")\n",
    "    print(\"1 - COMPTAGE \")\n",
    "    print(\"3 ou 'r' pour retourner au menu principal \")\n",
    "\n",
    "\n",
    "while True:\n",
    "    menu_principal()\n",
    "    print(\"Choisissez un nombre : \")\n",
    "    ch_menu = input()\n",
    "\n",
    "    if ch_menu == '1':\n",
    "        sous_menu_detection_mouvement()\n",
    "        ch_s_m_detection_mouvement = input()\n",
    "        if ch_s_m_detection_mouvement == '1':\n",
    "           foreground_background('MOG2', 'videos/vtest3.avi')\n",
    "            print(\"sousmenu 1\")\n",
    "        elif ch_s_m_detection_mouvement == '2':\n",
    "            background_substraction('KNN', 'videos/vtest3.avi')\n",
    "            print(\"sousmenu 2\")\n",
    "    elif ch_menu == '2':\n",
    "        k.kalman()\n",
    "        print(\"menu 2\")\n",
    "    elif ch_menu == '3':\n",
    "        print(\"menu 3\")\n",
    "        Comptage.comptage()\n",
    "        sous_menu_comptage_object()\n",
    "        ch_s_m_commptage_objet = input()\n",
    "        if ch_s_m_commptage_objet == '1':\n",
    "            comptage('mobilenet_ssd/MobileNetSSD_deploy.prototxt', 'mobilenet_ssd/MobileNetSSD_deploy.caffemodel', 'videos/example_01.mp4', 'output/output_01.avi')\n",
    "\n",
    "\n",
    "\n",
    "\n",
    "\n",
    "    if ch_menu == '4' or ch_menu == 'q':\n",
    "        break\n"
   ]
  },
  {
   "cell_type": "code",
   "execution_count": null,
   "metadata": {},
   "outputs": [],
   "source": []
  }
 ],
 "metadata": {
  "kernelspec": {
   "display_name": "Python 3",
   "language": "python",
   "name": "python3"
  },
  "language_info": {
   "codemirror_mode": {
    "name": "ipython",
    "version": 3
   },
   "file_extension": ".py",
   "mimetype": "text/x-python",
   "name": "python",
   "nbconvert_exporter": "python",
   "pygments_lexer": "ipython3",
   "version": "3.7.3"
  }
 },
 "nbformat": 4,
 "nbformat_minor": 2
}
